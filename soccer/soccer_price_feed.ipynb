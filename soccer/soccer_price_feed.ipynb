{
  "nbformat": 4,
  "nbformat_minor": 0,
  "metadata": {
    "colab": {
      "name": "soccer_price_feed.ipynb",
      "provenance": [],
      "authorship_tag": "ABX9TyOznJ+xYZdo7bUtvMJkM1OB",
      "include_colab_link": true
    },
    "kernelspec": {
      "name": "python3",
      "display_name": "Python 3"
    },
    "language_info": {
      "name": "python"
    }
  },
  "cells": [
    {
      "cell_type": "markdown",
      "metadata": {
        "id": "view-in-github",
        "colab_type": "text"
      },
      "source": [
        "<a href=\"https://colab.research.google.com/github/microprediction/timeseries-data/blob/main/soccer/soccer_price_feed.ipynb\" target=\"_parent\"><img src=\"https://colab.research.google.com/assets/colab-badge.svg\" alt=\"Open In Colab\"/></a>"
      ]
    },
    {
      "cell_type": "code",
      "execution_count": null,
      "metadata": {
        "id": "nqryIXCcJUFt"
      },
      "outputs": [],
      "source": [
        "!pip uninstall numpy -y\n",
        "!pip install --upgrade microprediction"
      ]
    },
    {
      "cell_type": "code",
      "source": [
        "import pandas as pd\n",
        "import numpy as np \n",
        "df = pd.read_csv('https://raw.githubusercontent.com/microprediction/timeseries-data/main/soccer/odds.csv')"
      ],
      "metadata": {
        "id": "8NTfaW2RJcq_"
      },
      "execution_count": 5,
      "outputs": []
    },
    {
      "cell_type": "code",
      "source": [
        "y = [v for v in df['Betfair\\'s Odd'].values if not np.isnan(v) ]\n",
        "import matplotlib.pyplot as plt\n",
        "plt.plot(y)"
      ],
      "metadata": {
        "colab": {
          "base_uri": "https://localhost:8080/",
          "height": 282
        },
        "id": "fFxiwapdKZ_i",
        "outputId": "d663fa4e-30ca-494d-fbf5-6825970d3ab8"
      },
      "execution_count": 6,
      "outputs": [
        {
          "output_type": "execute_result",
          "data": {
            "text/plain": [
              "[<matplotlib.lines.Line2D at 0x7feea8ac8f10>]"
            ]
          },
          "metadata": {},
          "execution_count": 6
        },
        {
          "output_type": "display_data",
          "data": {
            "image/png": "[encoded data removed]",
            "text/plain": [
              "<Figure size 432x288 with 1 Axes>"
            ]
          },
          "metadata": {
            "needs_background": "light"
          }
        }
      ]
    },
    {
      "cell_type": "code",
      "source": [
        "import time \n",
        "from microprediction import MicroWriter, new_key\n",
        "write_key = new_key(difficulty=12)\n",
        "mw = MicroWriter(write_key=write_key)\n",
        "for yi in y:\n",
        "    st = time.time()\n",
        "    res = mw.set(name='sc_something.json',value=yi)\n",
        "    print(res)\n",
        "    time.sleep(60-(time.time()-st))\n",
        "    \n",
        "   \n"
      ],
      "metadata": {
        "id": "yiH5SoZiK28d"
      },
      "execution_count": null,
      "outputs": []
    }
  ]
}
